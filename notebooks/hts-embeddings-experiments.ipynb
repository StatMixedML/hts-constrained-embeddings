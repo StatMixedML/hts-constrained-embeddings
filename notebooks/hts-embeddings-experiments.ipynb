{
 "cells": [
  {
   "cell_type": "markdown",
   "metadata": {},
   "source": [
    "## Data Preprocessing"
   ]
  },
  {
   "cell_type": "code",
   "execution_count": null,
   "metadata": {},
   "outputs": [],
   "source": [
    "import logging\n",
    "import pandas as pd\n",
    "from src.data import (\n",
    "    preprocess, \n",
    "    make_hierarchy_level_dict, \n",
    "    make_hierarchy_agg_dict, \n",
    "    inspect_hierarchy_agg_dict,\n",
    "    split, \n",
    "    build_datasets \n",
    ")\n",
    "\n",
    "# prepare data\n",
    "tourism_data = pd.read_csv('/root/data/raw/TourismData_v3.csv')\n",
    "tourism_data, level_counts, prefix_idxs = preprocess(tourism_data)\n",
    "\n",
    "# create train/val/test datasets, one for each of 10 CV folds\n",
    "splits = split(tourism_data.values, horizon = 12, min_train_size = 108, max_train_size = 108)\n",
    "train_datasets = build_datasets(tourism_data, splits)\n",
    "test_datasets = build_datasets(tourism_data, splits, val = False)\n",
    "\n",
    "# create mappings of hierarchy that will be used for fitting/evaluation\n",
    "hierarchy_agg_dict = make_hierarchy_agg_dict(prefix_idxs)\n",
    "hierarchy_level_dict = make_hierarchy_level_dict(level_counts)"
   ]
  },
  {
   "cell_type": "markdown",
   "metadata": {},
   "source": [
    "## Fit Models "
   ]
  },
  {
   "cell_type": "code",
   "execution_count": null,
   "metadata": {
    "scrolled": true
   },
   "outputs": [],
   "source": [
    "from src.model import fit_deepar#, fit_predict_arima, serialize_all\n",
    "from time import time\n",
    "\n",
    "EPOCHS=1\n",
    "\n",
    "# fit DeepAR models with no embedding aggregation penalty\n",
    "fit_models_cat_var = [\n",
    "   fit_deepar(\n",
    "        training_data, \n",
    "        epochs=EPOCHS,\n",
    "        use_cat_var = True,\n",
    "        cardinality = [tourism_data.shape[1]],\n",
    "        hierarchy_agg_dict = hierarchy_agg_dict,\n",
    "        print_rec_penalty = False\n",
    "    ) \n",
    "    for (training_data, _) in test_datasets\n",
    "]\n",
    "\n",
    "# fit DeepAR models with embedding aggregation penalty\n",
    "fit_models_embed_agg = [\n",
    "    fit_deepar(\n",
    "        training_data, \n",
    "        epochs=EPOCHS,\n",
    "        use_cat_var = True,\n",
    "        cardinality = [tourism_data.shape[1]],\n",
    "        hierarchy_agg_dict = hierarchy_agg_dict,\n",
    "        embedding_agg_penalty = 1,\n",
    "        print_rec_penalty = False\n",
    "    ) \n",
    "    for (training_data, _) in test_datasets\n",
    "]\n",
    "\n",
    "# fit DeepAR models with self-supervised penalty\n",
    "fit_models_self_sup = [\n",
    "    fit_deepar(\n",
    "        training_data, \n",
    "        epochs=EPOCHS,\n",
    "        use_cat_var = True,\n",
    "        cardinality = [tourism_data.shape[1]],\n",
    "        hierarchy_agg_dict = hierarchy_agg_dict,\n",
    "        self_supervised_penalty = 10e-8,\n",
    "        print_rec_penalty = False\n",
    "    ) \n",
    "    for (training_data, _) in test_datasets\n",
    "]\n"
   ]
  },
  {
   "cell_type": "markdown",
   "metadata": {},
   "source": [
    "## Evaluate Models"
   ]
  },
  {
   "cell_type": "code",
   "execution_count": null,
   "metadata": {
    "scrolled": true
   },
   "outputs": [],
   "source": [
    "from glob import glob\n",
    "from src.model import unserialize_all\n",
    "from src.evaluation import evaluate_optimal_rec, evaluate_deepar\n",
    "\n",
    "# baseline DeepAR w/ embedding\n",
    "filenames_cat_var = [f'/root/data/test_preds/test_model_cat_var_fold_{i}_preds.csv' for i in range(len(test_datasets))]\n",
    "evaluations_cat_var = [\n",
    "    evaluate_deepar(predictor, train_data, test_data, hierarchy_level_dict, filename) \n",
    "    for (predictor, _),  (train_data, test_data), filename in zip(fit_models_cat_var, test_datasets, filenames_cat_var)\n",
    "]\n",
    "\n",
    "# embedding aggregation penalty\n",
    "filenames_embed_agg = [f'/root/data/test_preds/test_model_embed_agg_fold_{i}_preds.csv' for i in range(len(test_datasets))]\n",
    "evaluations_embed_agg = [\n",
    "    evaluate_deepar(predictor, train_data, test_data, hierarchy_level_dict, filename) \n",
    "    for (predictor, _), (train_data, test_data), filename in zip(fit_models_embed_agg, test_datasets, filenames_embed_agg)\n",
    "]\n",
    "\n",
    "# self-supervised penalty\n",
    "evaluations_self_sup = [\n",
    "    evaluate_deepar(predictor, train_data, test_data, hierarchy_level_dict) \n",
    "    for (predictor, _), (train_data, test_data) in zip(fit_models_self_sup, test_datasets)\n",
    "]\n",
    "\n"
   ]
  },
  {
   "cell_type": "markdown",
   "metadata": {},
   "source": [
    "## Reconcile Models"
   ]
  },
  {
   "cell_type": "code",
   "execution_count": null,
   "metadata": {},
   "outputs": [],
   "source": [
    "reconciled_preds = [pd.read_csv(f) for f in glob(f'/root/data/test_reconciled_preds/test_model_cat_var*')]\n",
    "evaluations_mint_model = [\n",
    "    evaluate_optimal_rec(preds, test_data, hierarchy_level_dict) \n",
    "    for preds, (_, test_data) in zip(reconciled_preds, test_datasets)\n",
    "]\n",
    "reconciled_preds = [pd.read_csv(f) for f in glob(f'/root/data/test_reconciled_preds/test_model_embed_agg*')]\n",
    "evaluations_mint_embed_agg = [\n",
    "    evaluate_optimal_rec(preds, test_data, hierarchy_level_dict) \n",
    "    for preds, (_, test_data) in zip(reconciled_preds, test_datasets)\n",
    "]"
   ]
  },
  {
   "cell_type": "markdown",
   "metadata": {
    "scrolled": true
   },
   "source": [
    "## Compare Models"
   ]
  },
  {
   "cell_type": "code",
   "execution_count": null,
   "metadata": {},
   "outputs": [],
   "source": [
    "from src.evaluation import agg_evaluations, compare_performance\n",
    "\n",
    "baseline = agg_evaluations(evaluations_cat_var)\n",
    "embedd_agg = agg_evaluations(evaluations_embed_agg)\n",
    "reconciled = agg_evaluations(evaluations_mint_model)\n",
    "reconciled_embedd_agg = agg_evaluations(evaluations_mint_embed_agg)\n",
    "\n",
    "compare_performance(\n",
    "    [\n",
    "        baseline, \n",
    "        embedd_agg, \n",
    "        reconciled, \n",
    "        reconciled_embedd_agg, \n",
    "    ],\n",
    "    model_names = [\n",
    "        'DeepAR',\n",
    "        'DeepAR-Embed-Agg',\n",
    "        'DeepAR-MinT',\n",
    "        'DeepAR-Embed-Agg-MinT',\n",
    "    ],\n",
    "    levels = ['all', 'country', 'region-by-travel']\n",
    ")"
   ]
  }
 ],
 "metadata": {
  "kernelspec": {
   "display_name": "Python 3",
   "language": "python",
   "name": "python3"
  },
  "language_info": {
   "codemirror_mode": {
    "name": "ipython",
    "version": 3
   },
   "file_extension": ".py",
   "mimetype": "text/x-python",
   "name": "python",
   "nbconvert_exporter": "python",
   "pygments_lexer": "ipython3",
   "version": "3.7.6"
  }
 },
 "nbformat": 4,
 "nbformat_minor": 4
}
